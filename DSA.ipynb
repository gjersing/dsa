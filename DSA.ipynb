{
 "cells": [
  {
   "cell_type": "markdown",
   "id": "efc3a559",
   "metadata": {},
   "source": [
    "# Data Structures And Algorithms Study (Python)\n",
    "#### Utilizing https://www.techinterviewhandbook.org/algorithms/study-cheatsheet/ \n",
    "Entries arranged in priority order (High -> Mid -> Low)"
   ]
  },
  {
   "cell_type": "markdown",
   "id": "e6515dbe",
   "metadata": {},
   "source": [
    "***\n",
    "# Arrays\n",
    "https://www.techinterviewhandbook.org/algorithms/array/ <br><br>\n",
    "<b>Subarray</b> - A range of contiguous values within an array.<br>\n",
    "Example: given an array [2, 3, 6, 1, 5, 4], [3, 6, 1] is a subarray while [3, 1, 5] is not a subarray. <br><br>\n",
    "<b>Subsequence</b> - A sequence that can be derived from the given sequence by deleting some or no elements without changing the order of the remaining elements. <br>\n",
    "Example: given an array [2, 3, 6, 1, 5, 4], [3, 1, 5] is a subsequence but [3, 5, 1] is not a subsequence."
   ]
  },
  {
   "cell_type": "code",
   "execution_count": 1,
   "id": "f965048c",
   "metadata": {},
   "outputs": [
    {
     "name": "stdout",
     "output_type": "stream",
     "text": [
      "['Toyota', 'Volvo', 'BMW', 'Honda']\n",
      "['Toyota']\n"
     ]
    }
   ],
   "source": [
    "cars = [\"Ford\", \"Volvo\", \"BMW\"]\n",
    "\n",
    "#Access and Iteration\n",
    "cars[0] = \"Toyota\"\n",
    "len(cars)\n",
    "for car in cars:\n",
    "    lowerCar = car.lower()\n",
    "\n",
    "#Updating\n",
    "cars.append(\"Honda\")\n",
    "print(cars)\n",
    "\n",
    "#Removing\n",
    "cars.pop() #pops Honda\n",
    "cars.pop(1) #pops Volvo (second in array)\n",
    "cars.remove(\"BMW\") #targetted removal\n",
    "print(cars)"
   ]
  },
  {
   "cell_type": "markdown",
   "id": "581d1e77",
   "metadata": {},
   "source": [
    "***\n",
    "# String\n",
    "https://www.techinterviewhandbook.org/algorithms/string/ <br><br>\n",
    "A sequence (array) of characters. Many array tips apply to strings. <br>\n",
    "<b>Count characters:</b> Hash map<br>\n",
    "<b>String of unique characters:</b> To determine if two strings have common characters, perform & on the two bitmasks. If the result is non-zero, ie. mask_a & mask_b > 0, then the two strings have common characters.<br>\n",
    "<b>Anagram: </b> sorting both strings should produce the same resulting string. <br>\n",
    "<b>Palindrome: </b> Match on reverse OR two pointers at start and end until meet."
   ]
  },
  {
   "cell_type": "code",
   "execution_count": 2,
   "id": "dd9c5db6",
   "metadata": {},
   "outputs": [
    {
     "name": "stdout",
     "output_type": "stream",
     "text": [
      "c\n",
      "h\n",
      "r\n",
      "i\n",
      "s\n",
      "christopher\n",
      "['christo', 'her']\n"
     ]
    }
   ],
   "source": [
    "#Initializing and Manipulating\n",
    "name = \"Chris\"\n",
    "name = name.lower()\n",
    "\n",
    "#Looping\n",
    "for letter in name:\n",
    "    print(letter)\n",
    "    \n",
    "#Updating\n",
    "name += \"topher\"\n",
    "print(name)\n",
    "\n",
    "#Splitting\n",
    "print(name.split('p'))"
   ]
  },
  {
   "cell_type": "markdown",
   "id": "c56b72e6",
   "metadata": {},
   "source": [
    "***\n",
    "# Sorting and Searching\n",
    "https://www.techinterviewhandbook.org/algorithms/sorting-searching/<br><br>\n",
    "Typically involves using built in sort followed by binary searches. Usable <b>sorting algos are O(nlogn)</b> and <b>Binary Search is O(logn)</b> <br>\n",
    "<b>Python sorting: </b> Timsort. Hybrid between merge and insertion. O(nlogn) time and O(n) space in worst case"
   ]
  },
  {
   "cell_type": "code",
   "execution_count": 3,
   "id": "8f7dcd45",
   "metadata": {},
   "outputs": [
    {
     "name": "stdout",
     "output_type": "stream",
     "text": [
      "Array before sort: [12, 5, 3, 9, -1, 0]\n",
      "Reverse sorted array: [12, 9, 5, 3, 0, -1]\n",
      "Sorted array: [-1, 0, 3, 5, 9, 12]\n",
      "Target: 3\n",
      "Running Binary Search on array\n",
      "Index of target: 2\n"
     ]
    }
   ],
   "source": [
    "numbers = [12,5,3,9,-1,0]\n",
    "print('Array before sort:', numbers)\n",
    "target = 3 #Change to a valid value in numbers (otherwise return -1)\n",
    "\n",
    "#Python Timsort\n",
    "numbers.sort(reverse=True)\n",
    "print('Reverse sorted array:', numbers)\n",
    "numbers.sort()\n",
    "print('Sorted array:', numbers)\n",
    "print('Target:', target)\n",
    "\n",
    "#Binary Search\n",
    "#Left, right pointers\n",
    "def search(nums, target) -> int:\n",
    "    left, right = 0, len(nums) - 1\n",
    "    while left <= right:\n",
    "        pivot = left + (right - left) // 2     #Find current midpoint\n",
    "        if nums[pivot] == target:   #return found target\n",
    "            return pivot\n",
    "        if target < nums[pivot]:    #Search left of midpoint if less (Change right)\n",
    "            right = pivot - 1\n",
    "        else:                       #Search right of midpoint if more (Change left)\n",
    "            left = pivot + 1\n",
    "    return -1                       # Return -1 if not found\n",
    "\n",
    "print('Running Binary Search on array')\n",
    "print('Index of target:', search(numbers, target))"
   ]
  },
  {
   "cell_type": "markdown",
   "id": "2841dc0f",
   "metadata": {},
   "source": [
    "***\n",
    "# Matrix\n",
    "https://www.techinterviewhandbook.org/algorithms/matrix/ <br><br>\n",
    "2-D Array typically involved in Dynamic Programming or Graph traversal.<br>\n",
    "Traversal or DP questions typically want a copy with same size/dimensions intialized to empty or 0 values. Used to indicate visited or store the dynamic programming table.<br>\n",
    "\n",
    "<b>Transposing</b> can be used to verify the winning condition of a game. The transpose of a matrix is found by interchanging its rows into columns or columns into rows. Write code to verify the matrix for the horizontal cells, transpose the matrix, and reuse the logic for horizontal verification to verify originally vertical cells (which are now horizontal)."
   ]
  },
  {
   "cell_type": "code",
   "execution_count": 4,
   "id": "3fc25107",
   "metadata": {},
   "outputs": [
    {
     "name": "stdout",
     "output_type": "stream",
     "text": [
      "Populated 3x4:  [[1, 4, 5, 6], [-5, 8, 9, 3], [-7, 1, 2, 0]]\n",
      "Zero'd 3x4:     [[0, 0, 0, 0], [0, 0, 0, 0], [0, 0, 0, 0]]\n",
      "Copied 3x4:     [[1, 4, 5, 6], [-5, 8, 9, 3], [-7, 1, 2, 0]]\n",
      "Transposed 4x3: [(1, -5, -7), (4, 8, 1), (5, 9, 2), (6, 3, 0)]\n"
     ]
    }
   ],
   "source": [
    "#Initial\n",
    "matrix = [[1, 4, 5, 6], \n",
    "         [-5, 8, 9, 3],\n",
    "         [-7, 1, 2, 0]] #a 3 by 4 matrix\n",
    "print('Populated 3x4: ', matrix)\n",
    "\n",
    "#Copy a matrix as empty\n",
    "zero_matrix = [[0 for _ in range(len(matrix[0]))] for _ in range(len(matrix))]\n",
    "print(\"Zero'd 3x4:    \", zero_matrix)\n",
    "\n",
    "#Copy a matrix\n",
    "copied_matrix = [row[:] for row in matrix]\n",
    "print(\"Copied 3x4:    \", copied_matrix)\n",
    "\n",
    "#Transposing (Rows become columns, vice versa) a matrix\n",
    "transposed_matrix = list(zip(*matrix))\n",
    "print(\"Transposed 4x3:\", transposed_matrix)"
   ]
  },
  {
   "cell_type": "markdown",
   "id": "60fc2af0",
   "metadata": {},
   "source": [
    "***\n",
    "# Tree\n",
    "https://www.techinterviewhandbook.org/algorithms/tree/ <br><br>"
   ]
  },
  {
   "cell_type": "code",
   "execution_count": null,
   "id": "74e86e02",
   "metadata": {},
   "outputs": [],
   "source": []
  },
  {
   "cell_type": "markdown",
   "id": "adf9e816",
   "metadata": {},
   "source": [
    "***\n",
    "# Graph\n",
    "https://www.techinterviewhandbook.org/algorithms/graph/ <br><br>"
   ]
  },
  {
   "cell_type": "code",
   "execution_count": null,
   "id": "745128ca",
   "metadata": {},
   "outputs": [],
   "source": []
  },
  {
   "cell_type": "markdown",
   "id": "a624ea11",
   "metadata": {},
   "source": [
    "***\n",
    "# Hash Table// Hash Map\n",
    "https://www.techinterviewhandbook.org/algorithms/hash-table/ <br><br>\n",
    "Key, value pairs. Hash function to compute index and place in array. Easy index lookup gives O(1) Search, Insert, AND Remove<br>\n",
    "Hash collisions: Resolved using Seperate Chaining (Linked List for each value) or Open Addressing (Next unoccupied slot)"
   ]
  },
  {
   "cell_type": "code",
   "execution_count": 5,
   "id": "1544d38c",
   "metadata": {},
   "outputs": [
    {
     "name": "stdout",
     "output_type": "stream",
     "text": [
      "22\n",
      "{'Chris': 23, 'Kira': 24, 'Clover': 4, 'Random': 14}\n",
      "Chris 23\n",
      "Kira 24\n",
      "Clover 4\n",
      "{}\n"
     ]
    }
   ],
   "source": [
    "dict = {'Chris': 22, 'Kira': 24, 'Clover': 2, 'Random': 14}\n",
    "\n",
    "# Accessing and Updating\n",
    "print(dict[\"Chris\"])\n",
    "dict[\"Clover\"] = 4\n",
    "dict[\"Chris\"] += 1\n",
    "print(dict)\n",
    "\n",
    "# Deletion and Iteration\n",
    "del dict['Random']\n",
    "for user in dict:\n",
    "    print(user, dict[user])\n",
    "    \n",
    "# Clearing\n",
    "dict.clear()\n",
    "print(dict)"
   ]
  }
 ],
 "metadata": {
  "kernelspec": {
   "display_name": "Python 3 (ipykernel)",
   "language": "python",
   "name": "python3"
  },
  "language_info": {
   "codemirror_mode": {
    "name": "ipython",
    "version": 3
   },
   "file_extension": ".py",
   "mimetype": "text/x-python",
   "name": "python",
   "nbconvert_exporter": "python",
   "pygments_lexer": "ipython3",
   "version": "3.10.2"
  }
 },
 "nbformat": 4,
 "nbformat_minor": 5
}
