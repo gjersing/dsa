{
 "cells": [
  {
   "cell_type": "markdown",
   "id": "ad1a2c14",
   "metadata": {},
   "source": [
    "# Data Structures And Algorithms Study (Python)\n",
    "#### Utilizing https://www.techinterviewhandbook.org/algorithms/study-cheatsheet/ \n",
    "Entries arranged in priority order (High -> Mid -> Low) <br>\n",
    "python -m notebook to open"
   ]
  },
  {
   "cell_type": "markdown",
   "id": "6243981d",
   "metadata": {},
   "source": [
    "***\n",
    "# Arrays\n",
    "https://www.techinterviewhandbook.org/algorithms/array/ <br><br>\n",
    "<b>Subarray</b> - A range of contiguous values within an array.<br>\n",
    "Example: given an array [2, 3, 6, 1, 5, 4], [3, 6, 1] is a subarray while [3, 1, 5] is not a subarray. <br><br>\n",
    "<b>Subsequence</b> - A sequence that can be derived from the given sequence by deleting some or no elements without changing the order of the remaining elements. <br>\n",
    "Example: given an array [2, 3, 6, 1, 5, 4], [3, 1, 5] is a subsequence but [3, 5, 1] is not a subsequence."
   ]
  },
  {
   "cell_type": "code",
   "execution_count": 1,
   "id": "597ed7a7",
   "metadata": {},
   "outputs": [
    {
     "name": "stdout",
     "output_type": "stream",
     "text": [
      "['Toyota', 'Volvo', 'BMW', 'Honda']\n",
      "['Toyota']\n"
     ]
    }
   ],
   "source": [
    "cars = [\"Ford\", \"Volvo\", \"BMW\"]\n",
    "\n",
    "#Access and Iteration\n",
    "cars[0] = \"Toyota\"\n",
    "len(cars)\n",
    "for car in cars:\n",
    "    lowerCar = car.lower()\n",
    "\n",
    "#Updating\n",
    "cars.append(\"Honda\")\n",
    "print(cars)\n",
    "\n",
    "#Removing\n",
    "cars.pop() #pops Honda\n",
    "cars.pop(1) #pops Volvo (second in array)\n",
    "cars.remove(\"BMW\") #targetted removal\n",
    "print(cars)"
   ]
  },
  {
   "cell_type": "markdown",
   "id": "3cec5ddf",
   "metadata": {},
   "source": [
    "***\n",
    "# String\n",
    "https://www.techinterviewhandbook.org/algorithms/string/ <br><br>\n",
    "A sequence (array) of characters. Many array tips apply to strings. <br>\n",
    "<b>Count characters:</b> Hash map<br>\n",
    "<b>String of unique characters:</b> To determine if two strings have common characters, perform & on the two bitmasks. If the result is non-zero, ie. mask_a & mask_b > 0, then the two strings have common characters.<br>\n",
    "<b>Anagram: </b> sorting both strings should produce the same resulting string. <br>\n",
    "<b>Palindrome: </b> Match on reverse OR two pointers at start and end until meet."
   ]
  },
  {
   "cell_type": "code",
   "execution_count": 2,
   "id": "892984af",
   "metadata": {},
   "outputs": [
    {
     "name": "stdout",
     "output_type": "stream",
     "text": [
      "c\n",
      "h\n",
      "r\n",
      "i\n",
      "s\n",
      "christopher\n",
      "['christo', 'her']\n"
     ]
    }
   ],
   "source": [
    "#Initializing and Manipulating\n",
    "name = \"Chris\"\n",
    "name = name.lower()\n",
    "\n",
    "#Looping\n",
    "for letter in name:\n",
    "    print(letter)\n",
    "    \n",
    "#Updating\n",
    "name += \"topher\"\n",
    "print(name)\n",
    "\n",
    "#Splitting\n",
    "print(name.split('p'))"
   ]
  },
  {
   "cell_type": "markdown",
   "id": "df0dc7fd",
   "metadata": {},
   "source": [
    "***\n",
    "# Sorting and Searching\n",
    "https://www.techinterviewhandbook.org/algorithms/sorting-searching/<br><br>\n",
    "Typically involves using built in sort followed by binary searches. Usable <b>sorting algos are O(nlogn)</b> and <b>Binary Search is O(logn)</b> <br>\n",
    "<b>Python sorting: </b> Timsort. Hybrid between merge and insertion. O(nlogn) time and O(n) space in worst case"
   ]
  },
  {
   "cell_type": "code",
   "execution_count": 3,
   "id": "ffa5bc3d",
   "metadata": {},
   "outputs": [
    {
     "name": "stdout",
     "output_type": "stream",
     "text": [
      "Array before sort: [12, 5, 3, 9, -1, 0]\n",
      "Reverse sorted array: [12, 9, 5, 3, 0, -1]\n",
      "Sorted array: [-1, 0, 3, 5, 9, 12]\n",
      "Target: 3\n",
      "Running Binary Search on array\n",
      "Index of target: 2\n"
     ]
    }
   ],
   "source": [
    "numbers = [12,5,3,9,-1,0]\n",
    "print('Array before sort:', numbers)\n",
    "target = 3 #Change to a valid value in numbers (otherwise return -1)\n",
    "\n",
    "#Python Timsort\n",
    "numbers.sort(reverse=True)\n",
    "print('Reverse sorted array:', numbers)\n",
    "numbers.sort()\n",
    "print('Sorted array:', numbers)\n",
    "print('Target:', target)\n",
    "\n",
    "#Binary Search\n",
    "#Left, right pointers\n",
    "def search(nums, target) -> int:\n",
    "    left, right = 0, len(nums) - 1\n",
    "    while left <= right:\n",
    "        pivot = left + (right - left) // 2     #Find current midpoint\n",
    "        if nums[pivot] == target:   #return found target\n",
    "            return pivot\n",
    "        if target < nums[pivot]:    #Search left of midpoint if less (Change right)\n",
    "            right = pivot - 1\n",
    "        else:                       #Search right of midpoint if more (Change left)\n",
    "            left = pivot + 1\n",
    "    return -1                       # Return -1 if not found\n",
    "\n",
    "print('Running Binary Search on array')\n",
    "print('Index of target:', search(numbers, target))"
   ]
  },
  {
   "cell_type": "markdown",
   "id": "47f06ff7",
   "metadata": {},
   "source": [
    "***\n",
    "# Matrix\n",
    "https://www.techinterviewhandbook.org/algorithms/matrix/ <br><br>\n",
    "2-D Array typically involved in Dynamic Programming or Graph traversal.<br>\n",
    "Traversal or DP questions typically want a copy with same size/dimensions intialized to empty or 0 values. Used to indicate visited or store the dynamic programming table.<br>\n",
    "\n",
    "<b>Transposing</b> can be used to verify the winning condition of a game. The transpose of a matrix is found by interchanging its rows into columns or columns into rows. Write code to verify the matrix for the horizontal cells, transpose the matrix, and reuse the logic for horizontal verification to verify originally vertical cells (which are now horizontal)."
   ]
  },
  {
   "cell_type": "code",
   "execution_count": 4,
   "id": "73ca27a8",
   "metadata": {},
   "outputs": [
    {
     "name": "stdout",
     "output_type": "stream",
     "text": [
      "Populated 3x4:  [[1, 4, 5, 6], [-5, 8, 9, 3], [-7, 1, 2, 0]]\n",
      "Zero'd 3x4:     [[0, 0, 0, 0], [0, 0, 0, 0], [0, 0, 0, 0]]\n",
      "Copied 3x4:     [[1, 4, 5, 6], [-5, 8, 9, 3], [-7, 1, 2, 0]]\n",
      "Transposed 4x3: [(1, -5, -7), (4, 8, 1), (5, 9, 2), (6, 3, 0)]\n"
     ]
    }
   ],
   "source": [
    "#Initial\n",
    "matrix = [[1, 4, 5, 6], \n",
    "         [-5, 8, 9, 3],\n",
    "         [-7, 1, 2, 0]] #a 3 by 4 matrix\n",
    "print('Populated 3x4: ', matrix)\n",
    "\n",
    "#Copy a matrix as empty\n",
    "zero_matrix = [[0 for _ in range(len(matrix[0]))] for _ in range(len(matrix))]\n",
    "print(\"Zero'd 3x4:    \", zero_matrix)\n",
    "\n",
    "#Copy a matrix\n",
    "copied_matrix = [row[:] for row in matrix]\n",
    "print(\"Copied 3x4:    \", copied_matrix)\n",
    "\n",
    "#Transposing (Rows become columns, vice versa) a matrix\n",
    "transposed_matrix = list(zip(*matrix))\n",
    "print(\"Transposed 4x3:\", transposed_matrix)"
   ]
  },
  {
   "cell_type": "markdown",
   "id": "04d45bc4",
   "metadata": {},
   "source": [
    "***\n",
    "# Tree\n",
    "https://www.techinterviewhandbook.org/algorithms/tree/ <br><br>\n",
    "A tree is an undirected and connected acyclic graph. There are no cycles or loops. Each node can be like the root node of its own subtree, making recursion a useful technique for tree traversal. <br>\n",
    "Questions usually BINARY trees as opposed to ternary (3 children) or N-ary (N children) trees. <br><br>\n",
    "<b>Complete</b> binary tree - every level, except possibly the last, is completely filled, and all nodes in the last level are as far left as possible. <br>\n",
    "<b>Balanced</b> binary tree - the left and right subtrees of every node differ in height by no more than 1. <br><br>\n",
    "\n",
    "<b>Traversals</b> <br>\n",
    "<b>In-order:</b> Left -> Root -> Right [INSUFFICIENT to uniquely serialize a tree. Additionally need pre or post order]<br>\n",
    "<b>Pre-order:</b> Root -> Left -> Right <br>\n",
    "<b>Post-order:</b> Left -> Right -> Root\n",
    "\n",
    "\n",
    "##### Binary Search Tree (BST)\n",
    "In-order traversal of a BST will give you all elements in order. <br>\n",
    "\n",
    "<b>Use recursion</b>: Used when a subtree problem can solve entire problem. Always check for base case (null node) <br>\n",
    "<b>Traverse by Level</b>: Use breadth-first search"
   ]
  },
  {
   "cell_type": "code",
   "execution_count": 23,
   "id": "71824491",
   "metadata": {
    "scrolled": false
   },
   "outputs": [
    {
     "name": "stdout",
     "output_type": "stream",
     "text": [
      "Preorder traversal (Rt L R)\n",
      "1\n",
      "2\n",
      "4\n",
      "5\n",
      "3\n",
      "6\n",
      "7\n",
      "\n",
      "Inorder traversal (L Rt R)\n",
      "4\n",
      "2\n",
      "5\n",
      "1\n",
      "6\n",
      "3\n",
      "7\n",
      "\n",
      "Postorder traversal (L R Rt)\n",
      "4\n",
      "5\n",
      "2\n",
      "6\n",
      "7\n",
      "3\n",
      "1\n"
     ]
    }
   ],
   "source": [
    "# Node class\n",
    "class Node:\n",
    "    def __init__(self, key): #nodes have a value with a left and right node pointer\n",
    "        self.left = None\n",
    "        self.right = None\n",
    "        self.val = key\n",
    "    \n",
    "def inorder(root): # Left -> Root -> Right (INORDER means root in middle, LRtR)\n",
    "    if root:\n",
    "        inorder(root.left)\n",
    "        print(root.val)\n",
    "        inorder(root.right)\n",
    "\n",
    "def preorder(root): # Root -> Left -> Right (PRE means Root first, RtLR)\n",
    "    if root:\n",
    "        print(root.val)\n",
    "        preorder(root.left)\n",
    "        preorder(root.right)\n",
    "\n",
    "def postorder(root): # Left -> Right -> Root (POST means Root last, LRRt)\n",
    "    if root:\n",
    "        postorder(root.left)\n",
    "        postorder(root.right)\n",
    "        print(root.val)\n",
    "\n",
    "            \n",
    "# Initialize a tree\n",
    "root = Node(1)\n",
    "root.left = Node(2)\n",
    "root.right = Node(3)\n",
    "root.left.left = Node(4)\n",
    "root.left.right = Node(5)\n",
    "root.right.left = Node(6)\n",
    "root.right.right = Node(7)\n",
    "print(\"Preorder traversal (Rt L R)\") \n",
    "preorder(root)\n",
    "print(\"\\nInorder traversal (L Rt R)\")\n",
    "inorder(root) \n",
    "print(\"\\nPostorder traversal (L R Rt)\") \n",
    "postorder(root)"
   ]
  },
  {
   "cell_type": "markdown",
   "id": "0874a7c6",
   "metadata": {},
   "source": [
    "***\n",
    "# Graph\n",
    "https://www.techinterviewhandbook.org/algorithms/graph/ <br><br>\n",
    "\n",
    "A graph is a structure containing a set of objects (nodes or vertices) where there can be edges between these nodes/vertices. Edges can be directed or undirected and can optionally have values (a weighted graph). Trees are undirected graphs in which any two vertices are connected by exactly one edge and there can be no cycles in the graph. <br><br>\n",
    "graphs are commonly given in the input as 2D matrices where cells are the nodes and each cell can traverse to its adjacent cells (up/down/left/right) <br>\n",
    "|V| is the number of vertices while |E| is the number of edges.<br>\n",
    "\n",
    "<b>Graph Algos</b><br>\n",
    "<b>Common:</b> Breadth-first Search (BFS), Depth-first Search (DFS)<br>\n",
    "<b>Uncommon:</b> Topological Sort, Dijkstra's Algorithm<br>\n",
    "\n",
    "<b>BFS: </b>graph traversal algorithm which starts at a node and explores all nodes at the present depth, before moving on to the nodes at the next depth level.<br>\n",
    "Typically uses a <b>queue</b> to track visited nodes. Use double ended queues (deques in python) to get O(1) enqueueing. <br>\n",
    "\n",
    "<b>DFS: </b>graph traversal algorithm which explores as far as possible along each branch before backtracking.<br>\n",
    "A <b>stack</b> is used to keep track of the nodes that are on the current search path. Either by an implicit recursion stack, or an actual stack data structure. <br>\n",
    "\n",
    "<b>Topological Sort: </b>a linear ordering of its vertices such that for every directed edge uv from vertex u to vertex v, u comes before v in the ordering. Precisely, a topological sort is a graph traversal in which each node v is visited only after all its dependencies are visited.<br>\n",
    "Topological sorting is most commonly used for <b>job scheduling</b> a sequence of jobs or tasks which has dependencies on other jobs/tasks. The jobs are represented by vertices, and there is an edge from x to y if job x must be completed before job y can be started.<br>"
   ]
  },
  {
   "cell_type": "code",
   "execution_count": 31,
   "id": "ef00a629",
   "metadata": {},
   "outputs": [
    {
     "name": "stdout",
     "output_type": "stream",
     "text": [
      "Topological Sort: [1, 2, 0, 3]\n"
     ]
    }
   ],
   "source": [
    "from collections import deque\n",
    "\n",
    "#BREADTH FIRST SEARCH IMPLEMENTATION\n",
    "def bfs(matrix):\n",
    "  if not matrix:\n",
    "    return []\n",
    "\n",
    "  rows, cols = len(matrix), len(matrix[0])\n",
    "  visited = set()\n",
    "  directions = ((0, 1), (0, -1), (1, 0), (-1, 0))\n",
    "\n",
    "  def traverse(i, j):\n",
    "    queue = deque([(i, j)])\n",
    "    while queue:\n",
    "      curr_i, curr_j = queue.popleft()\n",
    "      if (curr_i, curr_j) not in visited:\n",
    "        visited.add((curr_i, curr_j))\n",
    "        # Traverse neighbors.\n",
    "        for direction in directions:\n",
    "          next_i, next_j = curr_i + direction[0], curr_j + direction[1]\n",
    "          if 0 <= next_i < rows and 0 <= next_j < cols:\n",
    "            # Add in question-specific checks, where relevant.\n",
    "            queue.append((next_i, next_j))\n",
    "\n",
    "  for i in range(rows):\n",
    "    for j in range(cols):\n",
    "      traverse(i, j)\n",
    "    \n",
    "    \n",
    "#DEPTH FIRST SEARCH IMPLEMENTATION\n",
    "def dfs(matrix):\n",
    "  if not matrix:\n",
    "    return []\n",
    "\n",
    "  rows, cols = len(matrix), len(matrix[0])\n",
    "  visited = set()\n",
    "  directions = ((0, 1), (0, -1), (1, 0), (-1, 0))\n",
    "\n",
    "  def traverse(i, j):\n",
    "    if (i, j) in visited:\n",
    "      return\n",
    "\n",
    "    visited.add((i, j))\n",
    "    # Traverse neighbors.\n",
    "    for direction in directions:\n",
    "      next_i, next_j = i + direction[0], j + direction[1]\n",
    "      if 0 <= next_i < rows and 0 <= next_j < cols:\n",
    "        # Add in question-specific checks, where relevant.\n",
    "        traverse(next_i, next_j)\n",
    "\n",
    "  for i in range(rows):\n",
    "    for j in range(cols):\n",
    "      traverse(i, j)\n",
    "\n",
    "#TOPOLOGICAL SORT IMPLEMENTATION\n",
    "def graph_topo_sort(num_nodes, edges):\n",
    "    nodes, order, queue = {}, [], deque()\n",
    "    for node_id in range(num_nodes):\n",
    "        nodes[node_id] = { 'in': 0, 'out': set() }\n",
    "    for node_id, pre_id in edges:\n",
    "        nodes[node_id]['in'] += 1\n",
    "        nodes[pre_id]['out'].add(node_id)\n",
    "    for node_id in nodes.keys():\n",
    "        if nodes[node_id]['in'] == 0:\n",
    "            queue.append(node_id)\n",
    "    while len(queue):\n",
    "        node_id = queue.pop()\n",
    "        for outgoing_id in nodes[node_id]['out']:\n",
    "            nodes[outgoing_id]['in'] -= 1\n",
    "            if nodes[outgoing_id]['in'] == 0:\n",
    "                queue.append(outgoing_id)\n",
    "        order.append(node_id)\n",
    "    return order if len(order) == num_nodes else None\n",
    "\n",
    "\n",
    "matrix = [[1, 4, 5, 6], \n",
    "         [-5, 8, 9, 3],\n",
    "         [-7, 1, 2, 0]] #a 3 by 4 matrix\n",
    "bfs(matrix)\n",
    "dfs(matrix)\n",
    "print('Topological Sort:', graph_topo_sort(4, [[0, 1], [0, 2], [2, 1], [3, 0]]))"
   ]
  },
  {
   "cell_type": "markdown",
   "id": "4300ce29",
   "metadata": {},
   "source": [
    "***\n",
    "# Hash Table // Hash Map\n",
    "https://www.techinterviewhandbook.org/algorithms/hash-table/ <br><br>\n",
    "Key, value pairs. Hash function to compute index and place in array. Easy index lookup gives O(1) Search, Insert, AND Remove<br>\n",
    "Hash collisions: Resolved using Seperate Chaining (Linked List for each value) or Open Addressing (Next unoccupied slot)"
   ]
  },
  {
   "cell_type": "code",
   "execution_count": 5,
   "id": "226a42e1",
   "metadata": {},
   "outputs": [
    {
     "name": "stdout",
     "output_type": "stream",
     "text": [
      "22\n",
      "{'Chris': 23, 'Kira': 24, 'Clover': 4, 'Random': 14}\n",
      "Chris 23\n",
      "Kira 24\n",
      "Clover 4\n",
      "{}\n"
     ]
    }
   ],
   "source": [
    "dict = {'Chris': 22, 'Kira': 24, 'Clover': 2, 'Random': 14}\n",
    "\n",
    "# Accessing and Updating\n",
    "print(dict[\"Chris\"])\n",
    "dict[\"Clover\"] = 4\n",
    "dict[\"Chris\"] += 1\n",
    "print(dict)\n",
    "\n",
    "# Deletion and Iteration\n",
    "del dict['Random']\n",
    "for user in dict:\n",
    "    print(user, dict[user])\n",
    "    \n",
    "# Clearing\n",
    "dict.clear()\n",
    "print(dict)"
   ]
  },
  {
   "cell_type": "markdown",
   "id": "f71859ec",
   "metadata": {},
   "source": [
    "***\n",
    "# Recursion\n",
    "https://www.techinterviewhandbook.org/algorithms/recursion/ <br><br>\n",
    "\n",
    "Solving a big problem by solving many smaller problems. Two parts necessary for recursion: A base case to define when recursion should stop and a recursive call that breaks the problem down into smaller subproblems.<br><br>\n",
    "\n",
    "<b>Recursive Algorithms:</b> Binary Search, Merge Sort, Tree Traversal, DFS<br>\n",
    "<b>Memoization:</b> Storing previously computed results (other fib values) to use again without calculation"
   ]
  },
  {
   "cell_type": "code",
   "execution_count": 2,
   "id": "ea88cd6f",
   "metadata": {},
   "outputs": [
    {
     "name": "stdout",
     "output_type": "stream",
     "text": [
      "55\n"
     ]
    }
   ],
   "source": [
    "def fib(n):\n",
    "  if n <= 1:\n",
    "    return n\n",
    "  return fib(n - 1) + fib(n - 2)\n",
    "\n",
    "print(fib(10))"
   ]
  },
  {
   "cell_type": "markdown",
   "id": "32f532e9",
   "metadata": {},
   "source": [
    "***\n",
    "# Linked List\n",
    "https://www.techinterviewhandbook.org/algorithms/linked-list/ <br><br>\n",
    "\n",
    "A data structure consisting of a collection of nodes which together represent a sequence.<br>\n",
    "<b>O(1)</b> insertion and deletion of a node in the list\n",
    "<b>O(n)</b> Access and search<br><br>\n",
    "\n",
    "<b>Types of Linked Lists</b><br>\n",
    "<b>Singly:</b> Each node points to next and the last points to null. <br>\n",
    "<b>Doubly:</b> Each node has NEXT and PREV. PREV of first and NEXT of last point to null. <br>\n",
    "<b>Circular:</b> Singly linked list where LAST points to FIRST <br>"
   ]
  },
  {
   "cell_type": "code",
   "execution_count": 5,
   "id": "1f7d7add",
   "metadata": {},
   "outputs": [
    {
     "name": "stdout",
     "output_type": "stream",
     "text": [
      "1\n",
      "7\n",
      "4\n"
     ]
    }
   ],
   "source": [
    "class singlyNode:\n",
    "    def __init__(self, data):\n",
    "        self.data = data\n",
    "        self.next = None\n",
    "        \n",
    "class doublyNode:\n",
    "    def __init__(self, data):\n",
    "        self.data = data\n",
    "        self.next = None\n",
    "        self.prev = None\n",
    "        \n",
    "class LinkedList:\n",
    "    def __init__(self):\n",
    "        self.head = None\n",
    "    \n",
    "    def printList(self):\n",
    "        temp = self.head\n",
    "        while (temp):\n",
    "            print(temp.data)\n",
    "            temp = temp.next\n",
    "        \n",
    "llist = LinkedList()\n",
    "llist.head = Node(1)\n",
    "second = Node(7)\n",
    "third = Node(4)\n",
    "\n",
    "\n",
    "llist.head.next = second\n",
    "second.next = third\n",
    "\n",
    "llist.printList()"
   ]
  },
  {
   "cell_type": "markdown",
   "id": "fcadbb31",
   "metadata": {},
   "source": [
    "***\n",
    "# Queue\n",
    "https://www.techinterviewhandbook.org/algorithms/queue/ <br><br>\n",
    "\n",
    "<b>Enqueue</b> on one end and <b>dequeue</b> on the other. Typically add to the back and remove from the head/front.<br>\n",
    "Can be implemented using arrays or singly linked lists. <b>FIFO</b> (First In, First Out) behavior. Used in BFS. <br>\n",
    "<b>O(1)</b> time complexity for Enqueue, Dequeue, Front, Back, and isEmpty operations. <br>"
   ]
  },
  {
   "cell_type": "code",
   "execution_count": 13,
   "id": "6b5034c9",
   "metadata": {
    "scrolled": true
   },
   "outputs": [
    {
     "name": "stdout",
     "output_type": "stream",
     "text": [
      "False\n"
     ]
    },
    {
     "data": {
      "text/plain": [
       "2"
      ]
     },
     "execution_count": 13,
     "metadata": {},
     "output_type": "execute_result"
    }
   ],
   "source": [
    "# Include and Initialize\n",
    "from queue import Queue\n",
    "q = Queue()\n",
    "\n",
    "#Put, empty, get\n",
    "q.put(1)\n",
    "q.put(2)\n",
    "q.put(3)\n",
    "print(q.empty())\n",
    "\n",
    "pop = []\n",
    "q.get()\n",
    "q.get()"
   ]
  },
  {
   "cell_type": "markdown",
   "id": "820d55a9",
   "metadata": {},
   "source": [
    "***\n",
    "# Stack\n",
    "https://www.techinterviewhandbook.org/algorithms/stack/ <br><br>\n",
    "\n",
    "<b>LIFO</b> (Last In, First Out) behavior. The newest element pushed to the stack is the first element popped from the stack<br>\n",
    "Important way to support nesting, recursive calls, and implement DFS manually. <b>O(1)</b> operations except <b>O(n)</b> search.<br>"
   ]
  },
  {
   "cell_type": "code",
   "execution_count": 16,
   "id": "47e022d8",
   "metadata": {},
   "outputs": [
    {
     "name": "stdout",
     "output_type": "stream",
     "text": [
      "Initial Stack ['a', 'b', 'c']\n",
      "\n",
      "Elements popped from stack:\n",
      "c\n",
      "b\n",
      "\n",
      "Stack after elements are popped:\n",
      "['a']\n"
     ]
    }
   ],
   "source": [
    "stack = []\n",
    "stack.append('a')\n",
    "stack.append('b')\n",
    "stack.append('c')\n",
    "print('Initial Stack', stack)\n",
    "\n",
    "print('\\nElements popped from stack:')\n",
    "print(stack.pop())\n",
    "print(stack.pop())\n",
    "\n",
    "print('\\nStack after elements are popped:')\n",
    "print(stack)"
   ]
  },
  {
   "cell_type": "markdown",
   "id": "22588fa8",
   "metadata": {},
   "source": [
    "***\n",
    "# Heap\n",
    "https://www.techinterviewhandbook.org/algorithms/heap/ <br><br>"
   ]
  },
  {
   "cell_type": "code",
   "execution_count": null,
   "id": "3768a382",
   "metadata": {},
   "outputs": [],
   "source": []
  },
  {
   "cell_type": "markdown",
   "id": "962a9ca1",
   "metadata": {},
   "source": [
    "***\n",
    "# Trie\n",
    "https://www.techinterviewhandbook.org/algorithms/trie/ <br><br>"
   ]
  },
  {
   "cell_type": "code",
   "execution_count": null,
   "id": "e9e5ca02",
   "metadata": {},
   "outputs": [],
   "source": []
  },
  {
   "cell_type": "markdown",
   "id": "c5e78c6a",
   "metadata": {},
   "source": [
    "***\n",
    "# Interval\n",
    "https://www.techinterviewhandbook.org/algorithms/interval/ <br><br>"
   ]
  },
  {
   "cell_type": "code",
   "execution_count": null,
   "id": "df5856a4",
   "metadata": {},
   "outputs": [],
   "source": []
  },
  {
   "cell_type": "markdown",
   "id": "6473d416",
   "metadata": {},
   "source": [
    "***\n",
    "# Dynamic Programming\n",
    "https://www.techinterviewhandbook.org/algorithms/dynamic-programming/ <br><br>"
   ]
  },
  {
   "cell_type": "code",
   "execution_count": null,
   "id": "6b2e29da",
   "metadata": {},
   "outputs": [],
   "source": []
  }
 ],
 "metadata": {
  "kernelspec": {
   "display_name": "Python 3 (ipykernel)",
   "language": "python",
   "name": "python3"
  },
  "language_info": {
   "codemirror_mode": {
    "name": "ipython",
    "version": 3
   },
   "file_extension": ".py",
   "mimetype": "text/x-python",
   "name": "python",
   "nbconvert_exporter": "python",
   "pygments_lexer": "ipython3",
   "version": "3.10.2"
  }
 },
 "nbformat": 4,
 "nbformat_minor": 5
}
